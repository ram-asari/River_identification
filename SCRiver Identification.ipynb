{
 "cells": [
  {
   "cell_type": "code",
   "execution_count": 1,
   "metadata": {
    "colab": {},
    "colab_type": "code",
    "id": "IJP9hWUg75ap"
   },
   "outputs": [],
   "source": [
    "from PIL import Image\n",
    "import numpy as np\n",
    "from random import randint\n",
    "import math"
   ]
  },
  {
   "cell_type": "code",
   "execution_count": 2,
   "metadata": {
    "colab": {},
    "colab_type": "code",
    "id": "xC-68iER8jie"
   },
   "outputs": [],
   "source": [
    "r = Image.open('/home/ram/code/MTech/SC/soft computing/1.gif','r')\n",
    "g = Image.open('/home/ram/code/MTech/SC/soft computing/2.gif','r')\n",
    "b = Image.open('/home/ram/code/MTech/SC/soft computing/3.gif','r')\n",
    "a = Image.open('/home/ram/code/MTech/SC/soft computing/4.gif','r')"
   ]
  },
  {
   "cell_type": "code",
   "execution_count": 3,
   "metadata": {
    "colab": {},
    "colab_type": "code",
    "id": "OqUPFK7Q84__"
   },
   "outputs": [],
   "source": [
    "pix_val_r = list(r.getdata())\n",
    "pix_val_r =np.array(pix_val_r).reshape(512,512)\n",
    "pix_val_g = list(g.getdata())\n",
    "pix_val_g =np.array(pix_val_g).reshape(512,512)\n",
    "pix_val_b = list(b.getdata())\n",
    "pix_val_b =np.array(pix_val_b).reshape(512,512)\n",
    "pix_val_a = list(a.getdata())\n",
    "pix_val_a =np.array(pix_val_a).reshape(512,512)\n"
   ]
  },
  {
   "cell_type": "code",
   "execution_count": 4,
   "metadata": {
    "colab": {},
    "colab_type": "code",
    "id": "20qnIENxBCl2"
   },
   "outputs": [],
   "source": [
    "x_nonriver = []\n",
    "y_nonriver = []\n",
    "for i in range(5000):\n",
    "  x_nonriver.append(randint(1, 120))\n",
    "  x_nonriver.append(randint(240, 511))\n",
    "\n",
    "for i in range(10000):\n",
    "  y_nonriver.append(randint(1,511))"
   ]
  },
  {
   "cell_type": "code",
   "execution_count": 9,
   "metadata": {
    "colab": {},
    "colab_type": "code",
    "id": "FD35kTRDWHad"
   },
   "outputs": [
    {
     "name": "stdout",
     "output_type": "stream",
     "text": [
      "9335\n"
     ]
    }
   ],
   "source": [
    "t = Image.open('/home/ram/Desktop/blacked.gif','r')\n",
    "t = t.convert('1')\n",
    "riv = []\n",
    "pix_val = list(t.getdata())\n",
    "pix_val =np.array(pix_val).reshape(511,512)\n",
    "for i in range(511):\n",
    "    for j in range(512):\n",
    "        if(pix_val[i,j]==255):\n",
    "            riv.append([i,j])\n",
    "\n",
    "print(len(riv))\n",
    "x_river = []\n",
    "y_river = []\n",
    "for x in range(500):\n",
    "  a = randint(0,len(riv))\n",
    "  x_river.append(riv[a][0])\n",
    "  y_river.append(riv[a][1])"
   ]
  },
  {
   "cell_type": "code",
   "execution_count": null,
   "metadata": {},
   "outputs": [],
   "source": [
    "#50 pixel locations of river class\n",
    "x_riv_R = np.array([158, 170, 175, 172, 170, 196, 212, 156, 156, 156, 156,156, 156, 156, 156,156, 156, 156, 156, \n",
    "                   171, 171,171, 171,171, 171,171, 171,171, 171,171, 171,171, 171,171, 171,171, 171,171, 171,\n",
    "                   217, 217, 217, 217, 217, 217, 217, 217, 217, 217, 217])\n",
    "y_riv_R = np.array([26,  54,  82,  104, 138, 266, 286, 21, 22, 23,24, 25, 26, 27, 28, 29, 30, 31, 32, 33,\n",
    "                   119, 120, 121, 122, 123, 124, 125, 126, 127, 128, 129, 130, 131,\n",
    "       132, 133, 134, 135, 136, 137, 299, 300, 301, 302, 303, 304, 305, 306, 307, 308, 309] )\n",
    "\n",
    "#50 pixel locations of river class\n",
    "x_river = np.array([158, 170, 175, 172, 170, 196, 212, 156, 156, 156, 156,156, 156, 156, 156,156, 156, 156, 156, \n",
    "                   171, 171,171, 171,171, 171,171, 171,171, 171,171, 171,171, 171,171, 171,171, 171,171, 171,\n",
    "                   217, 217, 217, 217, 217, 217, 217, 217, 217, 217, 217])\n",
    "y_river = np.array([26,  54,  82,  104, 138, 266, 286, 21, 22, 23,24, 25, 26, 27, 28, 29, 30, 31, 32, 33,\n",
    "                   119, 120, 121, 122, 123, 124, 125, 126, 127, 128, 129, 130, 131,\n",
    "       132, 133, 134, 135, 136, 137, 299, 300, 301, 302, 303, 304, 305, 306, 307, 308, 309] )"
   ]
  },
  {
   "cell_type": "code",
   "execution_count": null,
   "metadata": {},
   "outputs": [],
   "source": [
    "randint(0,len(riv))"
   ]
  },
  {
   "cell_type": "code",
   "execution_count": null,
   "metadata": {
    "colab": {
     "base_uri": "https://localhost:8080/",
     "height": 87
    },
    "colab_type": "code",
    "id": "s3e-oEhYEwoM",
    "outputId": "cca73a29-d2ac-47e3-c012-083e4c8cabf2"
   },
   "outputs": [],
   "source": [
    "print(len(x_river))\n",
    "print(x_nonriver)\n",
    "print(y_nonriver)"
   ]
  },
  {
   "cell_type": "code",
   "execution_count": null,
   "metadata": {
    "colab": {},
    "colab_type": "code",
    "id": "u_tpOH4sFB6R"
   },
   "outputs": [],
   "source": [
    "def mean(red,green,blue,alpha):\n",
    "  sum_r = np.sum(red)\n",
    "  sum_g = np.sum(green)\n",
    "  sum_b = np.sum(blue)\n",
    "  sum_a = np.sum(alpha)\n",
    "  l = red.size\n",
    "  return sum_r/l , sum_g/l , sum_b/l , sum_a/l"
   ]
  },
  {
   "cell_type": "code",
   "execution_count": null,
   "metadata": {
    "colab": {},
    "colab_type": "code",
    "id": "0D-G3iBnGNf7"
   },
   "outputs": [],
   "source": [
    "river_red = []\n",
    "river_green = []\n",
    "river_blue = []\n",
    "river_alpha = []\n",
    "for i in range(len(x_river)) :\n",
    "  x = x_river[i]\n",
    "  y = y_river[i]\n",
    "  river_red.append(pix_val_r[x,y])\n",
    "  river_green.append(pix_val_g[x,y])\n",
    "  river_blue.append(pix_val_b[x,y])\n",
    "  river_alpha.append(pix_val_a[x,y])\n",
    "river_red = np.array(river_red)\n",
    "river_green = np.array(river_green)\n",
    "river_blue = np.array(river_blue)\n",
    "river_alpha = np.array(river_alpha)"
   ]
  },
  {
   "cell_type": "code",
   "execution_count": null,
   "metadata": {
    "colab": {},
    "colab_type": "code",
    "id": "4Idze1yaIh36"
   },
   "outputs": [],
   "source": [
    "nonriver_red = []\n",
    "nonriver_green = []\n",
    "nonriver_blue = []\n",
    "nonriver_alpha = []\n",
    "for i in range(len(x_nonriver)) :\n",
    "  x = x_nonriver[i]\n",
    "  y = y_nonriver[i]\n",
    "  nonriver_red.append(pix_val_r[x,y])\n",
    "  nonriver_green.append(pix_val_g[x,y])\n",
    "  nonriver_blue.append(pix_val_b[x,y])\n",
    "  nonriver_alpha.append(pix_val_a[x,y])\n",
    "nonriver_red = np.array(nonriver_red)\n",
    "nonriver_green = np.array(nonriver_green)\n",
    "nonriver_blue = np.array(nonriver_blue)\n",
    "nonriver_alpha = np.array(nonriver_alpha)"
   ]
  },
  {
   "cell_type": "code",
   "execution_count": null,
   "metadata": {
    "colab": {
     "base_uri": "https://localhost:8080/",
     "height": 34
    },
    "colab_type": "code",
    "id": "FWcyhKO2HbPR",
    "outputId": "0c842207-cbf0-475f-e8c7-8d85d9e9cc22"
   },
   "outputs": [],
   "source": [
    "river_mean = mean(river_red,river_green,river_blue,river_alpha)\n",
    "nonriver_mean = mean(nonriver_red,nonriver_green,nonriver_blue,nonriver_alpha)\n",
    "nonriver_mean"
   ]
  },
  {
   "cell_type": "code",
   "execution_count": null,
   "metadata": {
    "colab": {},
    "colab_type": "code",
    "id": "Ktb14PfRJfql"
   },
   "outputs": [],
   "source": [
    "def cov(x, y):\n",
    "    xbar, ybar = x.mean(), y.mean()\n",
    "    return np.sum((x - xbar)*(y - ybar))/(len(x) - 1)\n",
    "\n",
    "cov_mat_river= np.array([[cov(river_red,river_red),cov(river_red,river_green),cov(river_red,river_blue),cov(river_red,river_alpha)],[cov(river_green,river_red),cov(river_green,river_green),cov(river_green,river_blue),cov(river_green,river_alpha)],[cov(river_blue,river_red),cov(river_blue,river_green),cov(river_blue,river_blue),cov(river_blue,river_alpha)],[cov(river_alpha,river_red),cov(river_alpha,river_green),cov(river_alpha,river_blue),cov(river_alpha,river_alpha)]])\n",
    "cov_mat_nonriver = np.array([[cov(nonriver_red,nonriver_red),cov(nonriver_red,nonriver_green),cov(nonriver_red,nonriver_blue),cov(nonriver_red,nonriver_alpha)],[cov(nonriver_green,nonriver_red),cov(nonriver_green,nonriver_green),cov(nonriver_green,nonriver_blue),cov(nonriver_green,nonriver_alpha)],[cov(nonriver_blue,nonriver_red),cov(nonriver_blue,nonriver_green),cov(nonriver_blue,nonriver_blue),cov(nonriver_blue,nonriver_alpha)],[cov(nonriver_alpha,nonriver_red),cov(nonriver_alpha,nonriver_green),cov(nonriver_alpha,nonriver_blue),cov(nonriver_alpha,nonriver_alpha)]])\n"
   ]
  },
  {
   "cell_type": "code",
   "execution_count": null,
   "metadata": {
    "colab": {
     "base_uri": "https://localhost:8080/",
     "height": 151
    },
    "colab_type": "code",
    "id": "yvMR7w__Pp_D",
    "outputId": "1f5ebd8b-60f6-47af-fef3-70a5f829b53b"
   },
   "outputs": [],
   "source": [
    "print(cov_mat_nonriver)\n",
    "print(cov_mat_river)"
   ]
  },
  {
   "cell_type": "code",
   "execution_count": null,
   "metadata": {
    "colab": {
     "base_uri": "https://localhost:8080/",
     "height": 34
    },
    "colab_type": "code",
    "id": "KErfVwIiQ6y1",
    "outputId": "ab841067-515e-4f5d-d159-0d314454bdb0"
   },
   "outputs": [],
   "source": [
    "test_data= np.array((pix_val_r,pix_val_g,pix_val_b,pix_val_a)).reshape(4,512*512)\n",
    "test_data.shape\n"
   ]
  },
  {
   "cell_type": "code",
   "execution_count": null,
   "metadata": {},
   "outputs": [],
   "source": [
    "  p2 = (-0.5)*1/math.sqrt(np.linalg.det(cov_mat_nonriver))*math.exp(nonriver_class)\n"
   ]
  },
  {
   "cell_type": "code",
   "execution_count": null,
   "metadata": {
    "colab": {
     "base_uri": "https://localhost:8080/",
     "height": 54
    },
    "colab_type": "code",
    "id": "95rdpKdPjGKU",
    "outputId": "0756bc39-1032-490f-f994-a222e55c030f"
   },
   "outputs": [],
   "source": [
    "\n",
    "out= []\n",
    "for i in range(0,512*512):\n",
    "  river_class = np.matmul(np.matmul((((test_data[:,i]-river_mean).reshape(4,1)).T),(np.linalg.inv(cov_mat_river))),(((test_data[:,i]-river_mean).reshape(4,1))))\n",
    "  nonriver_class = np.matmul(np.matmul((((test_data[:,i]-nonriver_mean).reshape(4,1)).T),(np.linalg.inv(cov_mat_nonriver))),(((test_data[:,i]-nonriver_mean).reshape(4,1))))\n",
    "  p1 = (-0.5)*1/math.sqrt(np.linalg.det(cov_mat_river))*math.exp(river_class)\n",
    "  P1 = 0.2\n",
    "  p2 = (-0.5)*1/math.sqrt(np.linalg.det(cov_mat_nonriver))*math.exp(nonriver_class)\n",
    "  P2 = 0.8\n",
    "  if (p1*P1 > p2*P2):\n",
    "    out.append(0)\n",
    "  else :\n",
    "    out.append(255)\n",
    "print(out)\n",
    "\n",
    "out = np.array(out,dtype=np.uint8).reshape(512,512)\n",
    "new_image = Image.fromarray(out)\n",
    "new_image.save('new.png')"
   ]
  },
  {
   "cell_type": "code",
   "execution_count": null,
   "metadata": {
    "colab": {},
    "colab_type": "code",
    "id": "9XOB8x6lSl3O"
   },
   "outputs": [],
   "source": [
    "out = np.array(out,dtype=np.uint8).reshape(512,512)\n",
    "new_image = Image.fromarray(out)\n",
    "new_image.save('new.png')\n"
   ]
  }
 ],
 "metadata": {
  "colab": {
   "name": "Copy of river.ipynb",
   "provenance": []
  },
  "kernelspec": {
   "display_name": "Python 3",
   "language": "python",
   "name": "python3"
  },
  "language_info": {
   "codemirror_mode": {
    "name": "ipython",
    "version": 3
   },
   "file_extension": ".py",
   "mimetype": "text/x-python",
   "name": "python",
   "nbconvert_exporter": "python",
   "pygments_lexer": "ipython3",
   "version": "3.7.3"
  }
 },
 "nbformat": 4,
 "nbformat_minor": 1
}
