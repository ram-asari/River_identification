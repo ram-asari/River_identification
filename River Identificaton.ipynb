{
 "cells": [
  {
   "cell_type": "code",
   "execution_count": 1,
   "metadata": {},
   "outputs": [],
   "source": [
    "from PIL import Image\n",
    "import numpy as np\n",
    "import math\n",
    "from random import randint"
   ]
  },
  {
   "cell_type": "code",
   "execution_count": 2,
   "metadata": {},
   "outputs": [],
   "source": [
    "R_image = Image.open(r\"/home/ram/code/MTech/SC/soft computing/1.gif\").load()  # opening image image\n",
    "G_image = Image.open(r\"/home/ram/code/MTech/SC/soft computing/2.gif\").load()  # opening image image\n",
    "B_image = Image.open(r\"/home/ram/code/MTech/SC/soft computing/3.gif\").load()  # opening image image\n",
    "I_image = Image.open(r\"/home/ram/code/MTech/SC/soft computing/4.gif\").load()  # opening image image\n"
   ]
  },
  {
   "cell_type": "code",
   "execution_count": 4,
   "metadata": {},
   "outputs": [],
   "source": [
    "x_non_riv_R = []\n",
    "y_non_riv_R = []\n",
    "for i in range(5000):\n",
    "  x_non_riv_R.append(randint(1, 123))\n",
    "  x_non_riv_R.append(randint(235, 511))\n",
    "\n",
    "for i in range(10000):\n",
    "  y_non_riv_R.append(randint(1,511))"
   ]
  },
  {
   "cell_type": "code",
   "execution_count": 5,
   "metadata": {},
   "outputs": [],
   "source": [
    "# copying pixels of river\n",
    "t = Image.open('/home/ram/Desktop/original.png','r')\n",
    "t = t.convert('1')\n",
    "riv = []\n",
    "pix_val = list(t.getdata())\n",
    "pix_val =np.array(pix_val).reshape(512,512)\n",
    "for i in range(512):\n",
    "    for j in range(512):\n",
    "        if(pix_val[i,j]==255):\n",
    "            riv.append([i,j])\n",
    "            \n",
    "x_riv_R = []\n",
    "y_riv_R = []\n",
    "for x in range(1000):\n",
    "  a = randint(0,len(riv))\n",
    "  x_riv_R.append(riv[a][0])\n",
    "  y_riv_R.append(riv[a][1])\n",
    "\n"
   ]
  },
  {
   "cell_type": "code",
   "execution_count": 6,
   "metadata": {},
   "outputs": [
    {
     "data": {
      "text/plain": [
       "[8.1586, 9.3674, 11.9648, 21.0269]"
      ]
     },
     "execution_count": 6,
     "metadata": {},
     "output_type": "execute_result"
    }
   ],
   "source": [
    "# finding mean of R, G, B and Iband selected pixels\n",
    "from statistics import mean \n",
    "r_pix_non_riv = []\n",
    "g_pix_non_riv = []\n",
    "b_pix_non_riv = []\n",
    "i_pix_non_riv = []\n",
    "\n",
    "non_riv_len = len(x_non_riv_R)\n",
    "riv_len = len(y_riv_R)\n",
    "\n",
    "for i in range(non_riv_len):\n",
    "    r_pix_non_riv.append(R_image[int(x_non_riv_R[i]), int(y_non_riv_R[i])])\n",
    "    g_pix_non_riv.append(G_image[int(x_non_riv_R[i]), int(y_non_riv_R[i])])\n",
    "    b_pix_non_riv.append(B_image[int(x_non_riv_R[i]), int(y_non_riv_R[i])])\n",
    "    i_pix_non_riv.append(I_image[int(x_non_riv_R[i]), int(y_non_riv_R[i])])\n",
    "non_riv_pix = [r_pix_non_riv, g_pix_non_riv, b_pix_non_riv, i_pix_non_riv]\n",
    "\n",
    "r_pix_riv = []\n",
    "g_pix_riv = []\n",
    "b_pix_riv = []\n",
    "i_pix_riv = []\n",
    "    \n",
    "for i in range(riv_len):\n",
    "    r_pix_riv.append(R_image[int(x_riv_R[i]), int(y_riv_R[i])])\n",
    "    g_pix_riv.append(G_image[int(x_riv_R[i]), int(y_riv_R[i])])\n",
    "    b_pix_riv.append(B_image[int(x_riv_R[i]), int(y_riv_R[i])])\n",
    "    i_pix_riv.append(I_image[int(x_riv_R[i]), int(y_riv_R[i])])\n",
    "riv_pix = [r_pix_riv, g_pix_riv, b_pix_riv, i_pix_riv]\n",
    "    \n",
    "r_non_riv_mean = mean(r_pix_non_riv)\n",
    "g_non_riv_mean = mean(g_pix_non_riv)\n",
    "b_non_riv_mean = mean(b_pix_non_riv)\n",
    "i_non_riv_mean = mean(i_pix_non_riv)\n",
    "t1 = [r_non_riv_mean, g_non_riv_mean, b_non_riv_mean, i_non_riv_mean]\n",
    "\n",
    "r_riv_mean = mean(r_pix_riv)\n",
    "g_riv_mean = mean(g_pix_riv)\n",
    "b_riv_mean = mean(b_pix_riv)\n",
    "i_riv_mean = mean(i_pix_riv)\n",
    "t2 = [r_riv_mean, g_riv_mean, b_riv_mean, i_riv_mean]\n",
    "\n",
    "t1"
   ]
  },
  {
   "cell_type": "code",
   "execution_count": 7,
   "metadata": {},
   "outputs": [
    {
     "data": {
      "text/plain": [
       "array([[ -0.65081904,  -2.99936958,  -2.9652138 , -16.82224856],\n",
       "       [ -1.79044868,  -2.96027879,  -3.18258578, -14.99928299],\n",
       "       [  0.84136686,  -0.58492601,   4.03156412, -14.20927405],\n",
       "       [ -3.95266161,  -3.33861692,  -5.14626775,  13.29740613]])"
      ]
     },
     "execution_count": 7,
     "metadata": {},
     "output_type": "execute_result"
    }
   ],
   "source": [
    "#finding the covariance\n",
    "covar = []\n",
    "for i in range(4):\n",
    "    for j in range(4):\n",
    "        covar.append( sum((np.array(non_riv_pix[i])-t1[i]) * (np.array(non_riv_pix[j]))-t1[j]) / (non_riv_len - 1)) \n",
    "non_riv_cov = np.array(covar).reshape(4,4)\n",
    "\n",
    "\n",
    "covar = []\n",
    "for i in range(4):\n",
    "    for j in range(4):\n",
    "        covar.append( sum((np.array(riv_pix[i])-t2[i]) * (np.array(riv_pix[j])-t2[j])) / (riv_len - 1)) \n",
    "riv_cov = np.array(covar).reshape(4,4)\n",
    "non_riv_cov\n"
   ]
  },
  {
   "cell_type": "code",
   "execution_count": 8,
   "metadata": {},
   "outputs": [],
   "source": [
    "r_pix = list(Image.open(r\"/home/ram/code/MTech/SC/soft computing/1.gif\").getdata())\n",
    "g_pix = list(Image.open(r\"/home/ram/code/MTech/SC/soft computing/2.gif\").getdata())\n",
    "b_pix = list(Image.open(r\"/home/ram/code/MTech/SC/soft computing/3.gif\").getdata())\n",
    "i_pix = list(Image.open(r\"/home/ram/code/MTech/SC/soft computing/4.gif\").getdata())\n",
    "\n",
    "test_data = np.array([r_pix, g_pix, b_pix, i_pix])\n"
   ]
  },
  {
   "cell_type": "code",
   "execution_count": 14,
   "metadata": {},
   "outputs": [],
   "source": [
    "riv_find= []\n",
    "\n",
    "for i in range(0,512*512):\n",
    "    riv_class = np.matmul(np.matmul((((test_data[:,i]-t2).reshape(4,1)).T),(np.linalg.inv(riv_cov))),(((test_data[:,i]-t2).reshape(4,1))))\n",
    "    non_riv_class = np.matmul(np.matmul((((test_data[:,i]-t1).reshape(4,1)).T),(np.linalg.inv(non_riv_cov))),(((test_data[:,i]-t1).reshape(4,1))))\n",
    "    \n",
    "    p1 = (-0.5)*1/math.sqrt(np.linalg.det(riv_cov))*math.exp(riv_class)\n",
    "    p2 = (-0.5)*1/math.sqrt(abs(np.linalg.det(non_riv_cov)))*math.exp(non_riv_class)\n",
    "    \n",
    "    P1 = 0.9999\n",
    "    P2 = 0.0001\n",
    "    \n",
    "    if (p1*P1 >= p2*P2):\n",
    "        riv_find.append(255)\n",
    "    else :\n",
    "        riv_find.append(0)\n",
    "\n",
    "        \n",
    "out = np.array(riv_find,dtype=np.uint8).reshape(512,512)\n",
    "new_image = Image.fromarray(out)\n",
    "new_image.save('output6.png')"
   ]
  },
  {
   "cell_type": "code",
   "execution_count": 10,
   "metadata": {},
   "outputs": [
    {
     "name": "stdout",
     "output_type": "stream",
     "text": [
      "-13.8920188824232\n",
      "-0.014539044693554435\n",
      "[[7.03728772]]\n"
     ]
    }
   ],
   "source": [
    "print((-0.5)*1/math.sqrt(np.linalg.det(riv_cov))*math.exp(riv_class))\n",
    "print(  (-0.5)*1/math.sqrt(abs(np.linalg.det(non_riv_cov)))*math.exp(non_riv_class))\n",
    "print( np.matmul(np.matmul((((test_data[:,i]-t2).reshape(4,1)).T),(np.linalg.inv(riv_cov))),(((test_data[:,i]-t2).reshape(4,1)))))"
   ]
  }
 ],
 "metadata": {
  "kernelspec": {
   "display_name": "Python 3",
   "language": "python",
   "name": "python3"
  },
  "language_info": {
   "codemirror_mode": {
    "name": "ipython",
    "version": 3
   },
   "file_extension": ".py",
   "mimetype": "text/x-python",
   "name": "python",
   "nbconvert_exporter": "python",
   "pygments_lexer": "ipython3",
   "version": "3.7.3"
  }
 },
 "nbformat": 4,
 "nbformat_minor": 2
}
